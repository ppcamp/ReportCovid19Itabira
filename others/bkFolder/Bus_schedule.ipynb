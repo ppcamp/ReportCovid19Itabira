{
 "cells": [
  {
   "cell_type": "markdown",
   "metadata": {},
   "source": [
    "# Getting all bus routes"
   ]
  },
  {
   "cell_type": "code",
   "execution_count": 1,
   "metadata": {},
   "outputs": [],
   "source": [
    "import requests\n",
    "from lxml import html\n",
    "import pandas as pd"
   ]
  },
  {
   "cell_type": "markdown",
   "metadata": {},
   "source": [
    "---\n",
    "### Making requests to get all lines"
   ]
  },
  {
   "cell_type": "code",
   "execution_count": 4,
   "metadata": {},
   "outputs": [],
   "source": [
    "url = 'https://www.transportescisne.com.br/'\n",
    "\n",
    "r = requests.get(url + '/itinerarios')\n",
    "r = html.fromstring(r.text)"
   ]
  },
  {
   "cell_type": "code",
   "execution_count": null,
   "metadata": {},
   "outputs": [],
   "source": [
    "# Getting keys\n",
    "path = '//*/a/h3/text()' # Text from elements that came from a link and there's a inner h3\n",
    "_keys = r.xpath(path)\n",
    "_keys = list( map(lambda i: i.strip(' -'), _keys ) ) # Remove unecessary chars\n",
    "\n",
    "# Getting values\n",
    "path = '//*[@class=\"col-md-7 lista-linhas\"]/a/@href' # Url links\n",
    "_values = r.xpath(path)\n",
    "_values = [ i.replace('\\\\', '/') for i in _values]\n",
    "bus = dict( zip(_keys,_values) )"
   ]
  },
  {
   "cell_type": "markdown",
   "metadata": {},
   "source": [
    "---\n",
    "### Getting bus path"
   ]
  },
  {
   "cell_type": "code",
   "execution_count": 28,
   "metadata": {
    "tags": [
     "outputPrepend"
    ]
   },
   "outputs": [
    {
     "output_type": "stream",
     "name": "stdout",
     "text": "R. RAIMUNDO DE SOUZA (BELA VISTA)\nAV. CAUÊ (CAMPESTRE)\nAV. JOÃO SOARES DA SILVA (PENHA)\nPRAÇA DO CENTENÁRIO (CENTRO)\nAV. MARTINS DA COSTA (PARÁ)\nRUA DOM PRUDÊNCIO (CENTRO)\nRUA JUCA MACHADO (14 DE FEVEREIRO)\nAV. DUQUE DE CAXIAS (ESPLANADA)\nAV. MADALENA P. SANTOS (VL SÃO JOAQUIM)\nAV. RIO DOCE (AREÃO)\nAV. BRASIL (AMAZONAS)\nRUA DANIEL J. DE GRISOLIA (HAMILTON)\nRUA AFONSO ARINOS (JOÃO XXIII)\nRUA 15 (SANTA RUTH)\nAV. 20 (AVENIDA MANGA)\nAV. 20 (SANTA RUTH)\nRUA HUMBERTO CAMPOS (JOÃO XXIII)\nRUA DANIEL J DE CRISOLIA (HAMILTON)\nAV. BRASIL (AMAZONAS)\nAV. RIO DOCE (AREÃO)\nRUA ISRAEL PINHEIRO (VL SÃO JOAQUIM)\nAV. DUQUE DE CAXIAS (ESPLANADA)\nRUA JUCA MACHADO (14 DE FEVEREIRO)\nAV. JOÃO PINHEIRO (CENTRO)\nRUA SANTA MARIA (PENHA)\nAV. CAUÊ (CAMPESTRE)\nAV. EMILIO ZACARIAS DA SILVA (BELA VISTA)\n"
    }
   ],
   "source": [
    "#######################################################\n",
    "# itinerary |   Caminho\n",
    "bus_path_d0 = []\n",
    "bus_path_d1 = []\n",
    "bus_path_s0 = []\n",
    "bus_path_s1 = []\n",
    "\n",
    "for name,link in bus.items():\n",
    "    r = requests.get(url + link)\n",
    "    r = html.fromstring(r.text)\n",
    "    \n",
    "    destination = r.xpath('//*[@class=\"panel-title\"]/a/text()')\n",
    "    destination = [i.strip()[8:] for i in destination if i.strip(' \\n')] # Only the actual lines#\n",
    "       \n",
    "    bus_path_d0.append(destination[0])\n",
    "    bus_path_d1.append(destination[1])\n",
    "\n",
    "    streets = r.xpath('//*[@class=\"panel-collapse collapse\"]/div/ul')\n",
    "    streets = [ i.text_content() for i in streets ]\n",
    "    streets = [ i.split('\\n') for i in streets ] # Separate for those two \n",
    "    for it in range(len(streets)): # Strip every streets and remove blank lines\n",
    "        streets[it] = [ i.strip() for i in streets[it] if i.strip() ]\n",
    "        for i in streets[it]:\n",
    "            if '(' in i:\n",
    "                print (i)\n",
    "    bus_path_s0.append(streets[0])\n",
    "    bus_path_s1.append(streets[1])\n",
    "\n",
    "    break"
   ]
  },
  {
   "cell_type": "code",
   "execution_count": 27,
   "metadata": {},
   "outputs": [
    {
     "output_type": "execute_result",
     "data": {
      "text/plain": "(['Santa Ruth'],\n ['Bela Vista'],\n [['R. RAIMUNDO DE SOUZA (BELA VISTA)',\n   'RUA PRESIDENTE KENNEDY',\n   'AV. EMÍLIO ZACARIAS DA SILVA',\n   'RUA PROFESSOR MAX D’CAUX',\n   'RUA JOÃO JULIO DE OLIVEIRA JOTA',\n   'RUA EURÍCO CAMILO',\n   'RUA CÔNEGO GUILHERMINO PEREIRA',\n   'AV. EMÍLIO ZACARIAS DA SILVA',\n   'RUA CARLOS AUGUSTO PAIVA',\n   'AV. CAUÊ (CAMPESTRE)',\n   'AV. JOÃO SOARES DA SILVA (PENHA)',\n   'PRAÇA DO CENTENÁRIO (CENTRO)',\n   'RUA DOUTOR GUERRA',\n   'AV. MARTINS DA COSTA (PARÁ)',\n   'RUA ALFREDO SAMPAIO',\n   'RUA PADRE ÂNGELO',\n   'RUA DOM PRUDÊNCIO (CENTRO)',\n   'RUA SÃO JOSÉ',\n   'AV. JOÃO PINHEIRO',\n   'PRAÇA ACRÍSIO ALVARENGA',\n   'AV. JOÃO PINHEIRO',\n   'RUA JUCA MACHADO (14 DE FEVEREIRO)',\n   'AV. DUQUE DE CAXIAS (ESPLANADA)',\n   'AV. MADALENA P. SANTOS (VL SÃO JOAQUIM)',\n   'RUA PREFEITO JOSÉ ELIZÁRIO BARBOSA',\n   'RUA ISRAEL PINHEIRO',\n   'AV. RIO DOCE (AREÃO)',\n   'AV. BRASIL (AMAZONAS)',\n   'RUA DANIEL J. DE GRISOLIA (HAMILTON)',\n   'RUA GAMELEIRA',\n   'RUA AFONSO ARINOS (JOÃO XXIII)',\n   'RUA H',\n   'RUA HUMBERTO CAMPOS',\n   'RUA 15 (SANTA RUTH)',\n   'RUA 10',\n   'RUA 9',\n   'RUA 5',\n   'RUA 8',\n   'AV. 20 (AVENIDA MANGA)']],\n [['AV. 20 (SANTA RUTH)',\n   'RUA 8',\n   'RUA 5',\n   'RUA 9',\n   'RUA 10',\n   'RUA 15',\n   'RUA HUMBERTO CAMPOS (JOÃO XXIII)',\n   'RUA H',\n   'RUA AFONSO ARINOS',\n   'RUA GAMELEIRA',\n   'RUA DANIEL J DE CRISOLIA (HAMILTON)',\n   'AV. BRASIL (AMAZONAS)',\n   'AV. RIO DOCE (AREÃO)',\n   'RUA ISRAEL PINHEIRO (VL SÃO JOAQUIM)',\n   'R. VERE. O M DE SOUZA',\n   'AV. MADALENA PEREIRA SANTOS',\n   'AV. DUQUE DE CAXIAS (ESPLANADA)',\n   'RUA JUCA MACHADO (14 DE FEVEREIRO)',\n   'AV. JOÃO PINHEIRO (CENTRO)',\n   'PRAÇA ACRÍSIO ALVARENGA',\n   'AV. CARLOS DE PAULA ANDRADE',\n   'PRAÇA ACRÍSIO ALVARENGA',\n   'AV. CARLOS DRUMOND DE ANDRADE',\n   'RUA SANTA MARIA (PENHA)',\n   'AV. JOÃO SOARES DA SILVA',\n   'AV. CAUÊ (CAMPESTRE)',\n   'RUA GRANITO',\n   'RUA MARTITA',\n   'AV. EMILIO ZACARIAS DA SILVA (BELA VISTA)',\n   'RUA CÔNEGO GUILHERMINO PEREIRA',\n   'RUA EURÍCO CAMILO',\n   'RUA JOÃO JULIO DE OLIVEIRA JOTA',\n   'RUA PROFESSOR MAX D’CAUX',\n   'AV. EMILIO ZACARIAS DA SILVA',\n   'RUA PRESIDENTE KENNEDY',\n   'RUA RAIMUNDO DE SOUZA']])"
     },
     "metadata": {},
     "execution_count": 27
    }
   ],
   "source": [
    "bus_path_d0, bus_path_d1, bus_path_s0 ,bus_path_s1"
   ]
  },
  {
   "cell_type": "code",
   "execution_count": null,
   "metadata": {},
   "outputs": [],
   "source": []
  }
 ],
 "metadata": {
  "kernelspec": {
   "display_name": "Python 3.8.2 64-bit",
   "language": "python",
   "name": "python38264bit6012f0774d5749a6803668d5ed4933b6"
  },
  "language_info": {
   "codemirror_mode": {
    "name": "ipython",
    "version": 3
   },
   "file_extension": ".py",
   "mimetype": "text/x-python",
   "name": "python",
   "nbconvert_exporter": "python",
   "pygments_lexer": "ipython3",
   "version": "3.8.2-final"
  },
  "toc": {
   "base_numbering": 1,
   "nav_menu": {},
   "number_sections": true,
   "sideBar": true,
   "skip_h1_title": false,
   "title_cell": "Table of Contents",
   "title_sidebar": "Contents",
   "toc_cell": false,
   "toc_position": {},
   "toc_section_display": true,
   "toc_window_display": false
  }
 },
 "nbformat": 4,
 "nbformat_minor": 2
}